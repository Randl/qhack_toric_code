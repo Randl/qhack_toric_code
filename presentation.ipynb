{
 "cells": [
  {
   "cell_type": "markdown",
   "metadata": {
    "pycharm": {
     "name": "#%% md\n"
    }
   },
   "source": [
    "# Realizing topologically ordered states on a quantum processor"
   ]
  },
  {
   "cell_type": "markdown",
   "source": [
    "## Introduction\n",
    "Toric code was proposed by Kitaev in paper\n",
    "\"[Fault-tolerant quantum computation by anyons](https://arxiv.org/abs/quant-ph/9707021)\"\n",
    "\n",
    "A good source for study is [Leggett's intro](https://courses.physics.illinois.edu/phys598PTD/fa2013/L26.pdf)\n",
    "to toric code."
   ],
   "metadata": {
    "collapsed": false,
    "pycharm": {
     "name": "#%% md\n"
    }
   }
  },
  {
   "cell_type": "markdown",
   "metadata": {
    "pycharm": {
     "name": "#%% md\n"
    }
   },
   "source": [
    "## Ground state preparation"
   ]
  },
  {
   "cell_type": "code",
   "execution_count": null,
   "metadata": {
    "pycharm": {
     "name": "#%%\n",
     "is_executing": true
    }
   },
   "outputs": [],
   "source": [
    "from toric_code import get_toric_code\n",
    "\n",
    "x, y = 5, 7  # System size (should be odd)\n",
    "tc = get_toric_code(x, y)\n",
    "print(f'Number of qubits: {tc.circ.num_qubits}, depth: {tc.circ.depth()}')\n",
    "print(f'Plaquette count: {tc.plaquette_x}*{tc.plaquette_y}')"
   ]
  },
  {
   "cell_type": "code",
   "execution_count": 1,
   "metadata": {
    "pycharm": {
     "name": "#%%\n"
    }
   },
   "outputs": [
    {
     "ename": "NameError",
     "evalue": "name 'tc' is not defined",
     "output_type": "error",
     "traceback": [
      "\u001B[0;31m---------------------------------------------------------------------------\u001B[0m",
      "\u001B[0;31mNameError\u001B[0m                                 Traceback (most recent call last)",
      "\u001B[0;32m<ipython-input-1-16c1273e8ca7>\u001B[0m in \u001B[0;36m<module>\u001B[0;34m\u001B[0m\n\u001B[0;32m----> 1\u001B[0;31m \u001B[0mtc\u001B[0m\u001B[0;34m.\u001B[0m\u001B[0mcirc\u001B[0m\u001B[0;34m.\u001B[0m\u001B[0mdraw\u001B[0m\u001B[0;34m(\u001B[0m\u001B[0;34m)\u001B[0m\u001B[0;34m\u001B[0m\u001B[0;34m\u001B[0m\u001B[0m\n\u001B[0m\u001B[1;32m      2\u001B[0m \u001B[0;34m\u001B[0m\u001B[0m\n",
      "\u001B[0;31mNameError\u001B[0m: name 'tc' is not defined"
     ]
    }
   ],
   "source": [
    "tc.circ.draw()"
   ]
  },
  {
   "cell_type": "markdown",
   "metadata": {},
   "source": [
    "### Verify ground state preparation\n",
    "Ground state fulfills $A_s=B_p=1$, i.e., which we can check by applying corresponding operator to plaquettes and stars.\n"
   ]
  },
  {
   "cell_type": "code",
   "execution_count": null,
   "metadata": {
    "pycharm": {
     "name": "#%%\n"
    }
   },
   "outputs": [],
   "source": [
    "from toric_code_tests.test_init import get_plaquette_ev\n",
    "\n",
    "import numpy as np\n",
    "from qiskit import Aer\n",
    "from qiskit import transpile\n",
    "\n",
    "from toric_code import get_toric_code\n",
    "from toric_code_matching import get_star_matching"
   ]
  },
  {
   "cell_type": "code",
   "execution_count": null,
   "metadata": {
    "pycharm": {
     "name": "#%%\n"
    }
   },
   "outputs": [],
   "source": [
    "# Use Aer's simulator\n",
    "backend = Aer.get_backend('aer_simulator')"
   ]
  },
  {
   "cell_type": "code",
   "execution_count": null,
   "metadata": {
    "pycharm": {
     "name": "#%%\n"
    }
   },
   "outputs": [],
   "source": [
    "px, py = tc.plaquette_x, tc.plaquette_y\n",
    "\n",
    "for i in range(px):\n",
    "    for j in range(py):\n",
    "        ev = get_plaquette_ev(backend, (x, y), (i, j))\n",
    "        print(f'Plaquette ({i},{j}): {ev}')"
   ]
  },
  {
   "cell_type": "code",
   "execution_count": null,
   "metadata": {
    "pycharm": {
     "name": "#%%\n"
    }
   },
   "outputs": [],
   "source": [
    "from toric_code_tests.test_init import get_star_ev\n",
    "\n",
    "sx, sy = tc.star_x, tc.star_y\n",
    "\n",
    "for i in range(sx):\n",
    "    for j in range(sy):\n",
    "        if len(get_star_matching(i, j, tc.y, tc.x)) < 4:\n",
    "            continue\n",
    "\n",
    "        ev = get_star_ev(backend, (x, y), (i, j))\n",
    "        print(f'Star ({i},{j}): {ev}')"
   ]
  },
  {
   "cell_type": "markdown",
   "metadata": {
    "pycharm": {
     "name": "#%% md\n"
    }
   },
   "source": [
    "### Entropy\n",
    "To calculate topological entropy ... (explanations on studd)\n",
    "\n",
    "Here we'll demonstrate calculations for a single $2\\times 3$ subsystem."
   ]
  },
  {
   "cell_type": "code",
   "execution_count": null,
   "metadata": {
    "pycharm": {
     "name": "#%%\n"
    }
   },
   "outputs": [],
   "source": [
    "from topo_entropy import get_all_2x3_left_non_corner\n",
    "\n",
    "expected_values = [(2., 2., 2.), (4., 3., 4.), (4.,)]\n",
    "\n",
    "qubits = get_all_2x3_left_non_corner((x, y))[0]"
   ]
  },
  {
   "cell_type": "markdown",
   "metadata": {
    "pycharm": {
     "name": "#%% md\n"
    }
   },
   "source": [
    "Pauli basis: measure in every possible combination of Pauli basis ($3^6$ options)."
   ],
   "outputs": [
    {
     "name": "stderr",
     "output_type": "stream",
     "text": [
      " 12%|█▏        | 90/729 [01:54<13:35,  1.28s/it]\n"
     ]
    },
    {
     "ename": "KeyboardInterrupt",
     "evalue": "",
     "output_type": "error",
     "traceback": [
      "\u001B[0;31m---------------------------------------------------------------------------\u001B[0m",
      "\u001B[0;31mKeyboardInterrupt\u001B[0m                         Traceback (most recent call last)",
      "\u001B[0;32m<ipython-input-15-2d69a25e42e8>\u001B[0m in \u001B[0;36m<module>\u001B[0;34m\u001B[0m\n\u001B[1;32m      7\u001B[0m     \u001B[0mtc\u001B[0m\u001B[0;34m.\u001B[0m\u001B[0mmeasure_pauli\u001B[0m\u001B[0;34m(\u001B[0m\u001B[0mqubits\u001B[0m\u001B[0;34m,\u001B[0m \u001B[0mgates\u001B[0m\u001B[0;34m)\u001B[0m\u001B[0;34m\u001B[0m\u001B[0;34m\u001B[0m\u001B[0m\n\u001B[1;32m      8\u001B[0m \u001B[0;34m\u001B[0m\u001B[0m\n\u001B[0;32m----> 9\u001B[0;31m     \u001B[0mjob\u001B[0m \u001B[0;34m=\u001B[0m \u001B[0mbackend\u001B[0m\u001B[0;34m.\u001B[0m\u001B[0mrun\u001B[0m\u001B[0;34m(\u001B[0m\u001B[0mtranspile\u001B[0m\u001B[0;34m(\u001B[0m\u001B[0mtc\u001B[0m\u001B[0;34m.\u001B[0m\u001B[0mcirc\u001B[0m\u001B[0;34m,\u001B[0m \u001B[0mbackend\u001B[0m\u001B[0;34m)\u001B[0m\u001B[0;34m,\u001B[0m \u001B[0mshots\u001B[0m\u001B[0;34m=\u001B[0m\u001B[0;36m15000\u001B[0m\u001B[0;34m)\u001B[0m  \u001B[0;31m# note: number of shots is important\u001B[0m\u001B[0;34m\u001B[0m\u001B[0;34m\u001B[0m\u001B[0m\n\u001B[0m\u001B[1;32m     10\u001B[0m     \u001B[0mresult\u001B[0m \u001B[0;34m=\u001B[0m \u001B[0mjob\u001B[0m\u001B[0;34m.\u001B[0m\u001B[0mresult\u001B[0m\u001B[0;34m(\u001B[0m\u001B[0;34m)\u001B[0m\u001B[0;34m\u001B[0m\u001B[0;34m\u001B[0m\u001B[0m\n\u001B[1;32m     11\u001B[0m     \u001B[0mcounts\u001B[0m \u001B[0;34m=\u001B[0m \u001B[0mresult\u001B[0m\u001B[0;34m.\u001B[0m\u001B[0mget_counts\u001B[0m\u001B[0;34m(\u001B[0m\u001B[0mtc\u001B[0m\u001B[0;34m.\u001B[0m\u001B[0mcirc\u001B[0m\u001B[0;34m)\u001B[0m\u001B[0;34m\u001B[0m\u001B[0;34m\u001B[0m\u001B[0m\n",
      "\u001B[0;32m/usr/local/lib/python3.9/site-packages/qiskit/compiler/transpiler.py\u001B[0m in \u001B[0;36mtranspile\u001B[0;34m(circuits, backend, basis_gates, inst_map, coupling_map, backend_properties, initial_layout, layout_method, routing_method, translation_method, scheduling_method, instruction_durations, dt, approximation_degree, timing_constraints, seed_transpiler, optimization_level, pass_manager, callback, output_name, unitary_synthesis_method, unitary_synthesis_plugin_config, target)\u001B[0m\n\u001B[1;32m    333\u001B[0m \u001B[0;34m\u001B[0m\u001B[0m\n\u001B[1;32m    334\u001B[0m     \u001B[0;31m# Transpile circuits in parallel\u001B[0m\u001B[0;34m\u001B[0m\u001B[0;34m\u001B[0m\u001B[0m\n\u001B[0;32m--> 335\u001B[0;31m     \u001B[0mcircuits\u001B[0m \u001B[0;34m=\u001B[0m \u001B[0mparallel_map\u001B[0m\u001B[0;34m(\u001B[0m\u001B[0m_transpile_circuit\u001B[0m\u001B[0;34m,\u001B[0m \u001B[0mlist\u001B[0m\u001B[0;34m(\u001B[0m\u001B[0mzip\u001B[0m\u001B[0;34m(\u001B[0m\u001B[0mcircuits\u001B[0m\u001B[0;34m,\u001B[0m \u001B[0mtranspile_args\u001B[0m\u001B[0;34m)\u001B[0m\u001B[0;34m)\u001B[0m\u001B[0;34m)\u001B[0m\u001B[0;34m\u001B[0m\u001B[0;34m\u001B[0m\u001B[0m\n\u001B[0m\u001B[1;32m    336\u001B[0m \u001B[0;34m\u001B[0m\u001B[0m\n\u001B[1;32m    337\u001B[0m     \u001B[0mend_time\u001B[0m \u001B[0;34m=\u001B[0m \u001B[0mtime\u001B[0m\u001B[0;34m(\u001B[0m\u001B[0;34m)\u001B[0m\u001B[0;34m\u001B[0m\u001B[0;34m\u001B[0m\u001B[0m\n",
      "\u001B[0;32m/usr/local/lib/python3.9/site-packages/qiskit/tools/parallel.py\u001B[0m in \u001B[0;36mparallel_map\u001B[0;34m(task, values, task_args, task_kwargs, num_processes)\u001B[0m\n\u001B[1;32m    130\u001B[0m         \u001B[0;32mreturn\u001B[0m \u001B[0;34m[\u001B[0m\u001B[0;34m]\u001B[0m\u001B[0;34m\u001B[0m\u001B[0;34m\u001B[0m\u001B[0m\n\u001B[1;32m    131\u001B[0m     \u001B[0;32mif\u001B[0m \u001B[0mlen\u001B[0m\u001B[0;34m(\u001B[0m\u001B[0mvalues\u001B[0m\u001B[0;34m)\u001B[0m \u001B[0;34m==\u001B[0m \u001B[0;36m1\u001B[0m\u001B[0;34m:\u001B[0m\u001B[0;34m\u001B[0m\u001B[0;34m\u001B[0m\u001B[0m\n\u001B[0;32m--> 132\u001B[0;31m         \u001B[0;32mreturn\u001B[0m \u001B[0;34m[\u001B[0m\u001B[0mtask\u001B[0m\u001B[0;34m(\u001B[0m\u001B[0mvalues\u001B[0m\u001B[0;34m[\u001B[0m\u001B[0;36m0\u001B[0m\u001B[0;34m]\u001B[0m\u001B[0;34m,\u001B[0m \u001B[0;34m*\u001B[0m\u001B[0mtask_args\u001B[0m\u001B[0;34m,\u001B[0m \u001B[0;34m**\u001B[0m\u001B[0mtask_kwargs\u001B[0m\u001B[0;34m)\u001B[0m\u001B[0;34m]\u001B[0m\u001B[0;34m\u001B[0m\u001B[0;34m\u001B[0m\u001B[0m\n\u001B[0m\u001B[1;32m    133\u001B[0m \u001B[0;34m\u001B[0m\u001B[0m\n\u001B[1;32m    134\u001B[0m     \u001B[0mPublisher\u001B[0m\u001B[0;34m(\u001B[0m\u001B[0;34m)\u001B[0m\u001B[0;34m.\u001B[0m\u001B[0mpublish\u001B[0m\u001B[0;34m(\u001B[0m\u001B[0;34m\"terra.parallel.start\"\u001B[0m\u001B[0;34m,\u001B[0m \u001B[0mlen\u001B[0m\u001B[0;34m(\u001B[0m\u001B[0mvalues\u001B[0m\u001B[0;34m)\u001B[0m\u001B[0;34m)\u001B[0m\u001B[0;34m\u001B[0m\u001B[0;34m\u001B[0m\u001B[0m\n",
      "\u001B[0;32m/usr/local/lib/python3.9/site-packages/qiskit/compiler/transpiler.py\u001B[0m in \u001B[0;36m_transpile_circuit\u001B[0;34m(circuit_config_tuple)\u001B[0m\n\u001B[1;32m    427\u001B[0m         \u001B[0;32mraise\u001B[0m \u001B[0mTranspilerError\u001B[0m\u001B[0;34m(\u001B[0m\u001B[0;34m\"optimization_level can range from 0 to 3.\"\u001B[0m\u001B[0;34m)\u001B[0m\u001B[0;34m\u001B[0m\u001B[0;34m\u001B[0m\u001B[0m\n\u001B[1;32m    428\u001B[0m \u001B[0;34m\u001B[0m\u001B[0m\n\u001B[0;32m--> 429\u001B[0;31m     result = pass_manager.run(\n\u001B[0m\u001B[1;32m    430\u001B[0m         \u001B[0mcircuit\u001B[0m\u001B[0;34m,\u001B[0m \u001B[0mcallback\u001B[0m\u001B[0;34m=\u001B[0m\u001B[0mtranspile_config\u001B[0m\u001B[0;34m[\u001B[0m\u001B[0;34m\"callback\"\u001B[0m\u001B[0;34m]\u001B[0m\u001B[0;34m,\u001B[0m \u001B[0moutput_name\u001B[0m\u001B[0;34m=\u001B[0m\u001B[0mtranspile_config\u001B[0m\u001B[0;34m[\u001B[0m\u001B[0;34m\"output_name\"\u001B[0m\u001B[0;34m]\u001B[0m\u001B[0;34m\u001B[0m\u001B[0;34m\u001B[0m\u001B[0m\n\u001B[1;32m    431\u001B[0m     )\n",
      "\u001B[0;32m/usr/local/lib/python3.9/site-packages/qiskit/transpiler/passmanager.py\u001B[0m in \u001B[0;36mrun\u001B[0;34m(self, circuits, output_name, callback)\u001B[0m\n\u001B[1;32m    216\u001B[0m             \u001B[0;32mreturn\u001B[0m \u001B[0mcircuits\u001B[0m\u001B[0;34m\u001B[0m\u001B[0;34m\u001B[0m\u001B[0m\n\u001B[1;32m    217\u001B[0m         \u001B[0;32mif\u001B[0m \u001B[0misinstance\u001B[0m\u001B[0;34m(\u001B[0m\u001B[0mcircuits\u001B[0m\u001B[0;34m,\u001B[0m \u001B[0mQuantumCircuit\u001B[0m\u001B[0;34m)\u001B[0m\u001B[0;34m:\u001B[0m\u001B[0;34m\u001B[0m\u001B[0;34m\u001B[0m\u001B[0m\n\u001B[0;32m--> 218\u001B[0;31m             \u001B[0;32mreturn\u001B[0m \u001B[0mself\u001B[0m\u001B[0;34m.\u001B[0m\u001B[0m_run_single_circuit\u001B[0m\u001B[0;34m(\u001B[0m\u001B[0mcircuits\u001B[0m\u001B[0;34m,\u001B[0m \u001B[0moutput_name\u001B[0m\u001B[0;34m,\u001B[0m \u001B[0mcallback\u001B[0m\u001B[0;34m)\u001B[0m\u001B[0;34m\u001B[0m\u001B[0;34m\u001B[0m\u001B[0m\n\u001B[0m\u001B[1;32m    219\u001B[0m         \u001B[0;32mif\u001B[0m \u001B[0mlen\u001B[0m\u001B[0;34m(\u001B[0m\u001B[0mcircuits\u001B[0m\u001B[0;34m)\u001B[0m \u001B[0;34m==\u001B[0m \u001B[0;36m1\u001B[0m\u001B[0;34m:\u001B[0m\u001B[0;34m\u001B[0m\u001B[0;34m\u001B[0m\u001B[0m\n\u001B[1;32m    220\u001B[0m             \u001B[0;32mreturn\u001B[0m \u001B[0mself\u001B[0m\u001B[0;34m.\u001B[0m\u001B[0m_run_single_circuit\u001B[0m\u001B[0;34m(\u001B[0m\u001B[0mcircuits\u001B[0m\u001B[0;34m[\u001B[0m\u001B[0;36m0\u001B[0m\u001B[0;34m]\u001B[0m\u001B[0;34m,\u001B[0m \u001B[0moutput_name\u001B[0m\u001B[0;34m,\u001B[0m \u001B[0mcallback\u001B[0m\u001B[0;34m)\u001B[0m\u001B[0;34m\u001B[0m\u001B[0;34m\u001B[0m\u001B[0m\n",
      "\u001B[0;32m/usr/local/lib/python3.9/site-packages/qiskit/transpiler/passmanager.py\u001B[0m in \u001B[0;36m_run_single_circuit\u001B[0;34m(self, circuit, output_name, callback)\u001B[0m\n\u001B[1;32m    271\u001B[0m         \"\"\"\n\u001B[1;32m    272\u001B[0m         \u001B[0mrunning_passmanager\u001B[0m \u001B[0;34m=\u001B[0m \u001B[0mself\u001B[0m\u001B[0;34m.\u001B[0m\u001B[0m_create_running_passmanager\u001B[0m\u001B[0;34m(\u001B[0m\u001B[0;34m)\u001B[0m\u001B[0;34m\u001B[0m\u001B[0;34m\u001B[0m\u001B[0m\n\u001B[0;32m--> 273\u001B[0;31m         \u001B[0mresult\u001B[0m \u001B[0;34m=\u001B[0m \u001B[0mrunning_passmanager\u001B[0m\u001B[0;34m.\u001B[0m\u001B[0mrun\u001B[0m\u001B[0;34m(\u001B[0m\u001B[0mcircuit\u001B[0m\u001B[0;34m,\u001B[0m \u001B[0moutput_name\u001B[0m\u001B[0;34m=\u001B[0m\u001B[0moutput_name\u001B[0m\u001B[0;34m,\u001B[0m \u001B[0mcallback\u001B[0m\u001B[0;34m=\u001B[0m\u001B[0mcallback\u001B[0m\u001B[0;34m)\u001B[0m\u001B[0;34m\u001B[0m\u001B[0;34m\u001B[0m\u001B[0m\n\u001B[0m\u001B[1;32m    274\u001B[0m         \u001B[0mself\u001B[0m\u001B[0;34m.\u001B[0m\u001B[0mproperty_set\u001B[0m \u001B[0;34m=\u001B[0m \u001B[0mrunning_passmanager\u001B[0m\u001B[0;34m.\u001B[0m\u001B[0mproperty_set\u001B[0m\u001B[0;34m\u001B[0m\u001B[0;34m\u001B[0m\u001B[0m\n\u001B[1;32m    275\u001B[0m         \u001B[0;32mreturn\u001B[0m \u001B[0mresult\u001B[0m\u001B[0;34m\u001B[0m\u001B[0;34m\u001B[0m\u001B[0m\n",
      "\u001B[0;32m/usr/local/lib/python3.9/site-packages/qiskit/transpiler/runningpassmanager.py\u001B[0m in \u001B[0;36mrun\u001B[0;34m(***failed resolving arguments***)\u001B[0m\n\u001B[1;32m    121\u001B[0m         \u001B[0;32mfor\u001B[0m \u001B[0mpassset\u001B[0m \u001B[0;32min\u001B[0m \u001B[0mself\u001B[0m\u001B[0;34m.\u001B[0m\u001B[0mworking_list\u001B[0m\u001B[0;34m:\u001B[0m\u001B[0;34m\u001B[0m\u001B[0;34m\u001B[0m\u001B[0m\n\u001B[1;32m    122\u001B[0m             \u001B[0;32mfor\u001B[0m \u001B[0mpass_\u001B[0m \u001B[0;32min\u001B[0m \u001B[0mpassset\u001B[0m\u001B[0;34m:\u001B[0m\u001B[0;34m\u001B[0m\u001B[0;34m\u001B[0m\u001B[0m\n\u001B[0;32m--> 123\u001B[0;31m                 \u001B[0mdag\u001B[0m \u001B[0;34m=\u001B[0m \u001B[0mself\u001B[0m\u001B[0;34m.\u001B[0m\u001B[0m_do_pass\u001B[0m\u001B[0;34m(\u001B[0m\u001B[0mpass_\u001B[0m\u001B[0;34m,\u001B[0m \u001B[0mdag\u001B[0m\u001B[0;34m,\u001B[0m \u001B[0mpassset\u001B[0m\u001B[0;34m.\u001B[0m\u001B[0moptions\u001B[0m\u001B[0;34m)\u001B[0m\u001B[0;34m\u001B[0m\u001B[0;34m\u001B[0m\u001B[0m\n\u001B[0m\u001B[1;32m    124\u001B[0m \u001B[0;34m\u001B[0m\u001B[0m\n\u001B[1;32m    125\u001B[0m         \u001B[0mcircuit\u001B[0m \u001B[0;34m=\u001B[0m \u001B[0mdag_to_circuit\u001B[0m\u001B[0;34m(\u001B[0m\u001B[0mdag\u001B[0m\u001B[0;34m)\u001B[0m\u001B[0;34m\u001B[0m\u001B[0;34m\u001B[0m\u001B[0m\n",
      "\u001B[0;32m/usr/local/lib/python3.9/site-packages/qiskit/transpiler/runningpassmanager.py\u001B[0m in \u001B[0;36m_do_pass\u001B[0;34m(self, pass_, dag, options)\u001B[0m\n\u001B[1;32m    152\u001B[0m         \u001B[0;31m# Run the pass itself, if not already run\u001B[0m\u001B[0;34m\u001B[0m\u001B[0;34m\u001B[0m\u001B[0m\n\u001B[1;32m    153\u001B[0m         \u001B[0;32mif\u001B[0m \u001B[0mpass_\u001B[0m \u001B[0;32mnot\u001B[0m \u001B[0;32min\u001B[0m \u001B[0mself\u001B[0m\u001B[0;34m.\u001B[0m\u001B[0mvalid_passes\u001B[0m\u001B[0;34m:\u001B[0m\u001B[0;34m\u001B[0m\u001B[0;34m\u001B[0m\u001B[0m\n\u001B[0;32m--> 154\u001B[0;31m             \u001B[0mdag\u001B[0m \u001B[0;34m=\u001B[0m \u001B[0mself\u001B[0m\u001B[0;34m.\u001B[0m\u001B[0m_run_this_pass\u001B[0m\u001B[0;34m(\u001B[0m\u001B[0mpass_\u001B[0m\u001B[0;34m,\u001B[0m \u001B[0mdag\u001B[0m\u001B[0;34m)\u001B[0m\u001B[0;34m\u001B[0m\u001B[0;34m\u001B[0m\u001B[0m\n\u001B[0m\u001B[1;32m    155\u001B[0m \u001B[0;34m\u001B[0m\u001B[0m\n\u001B[1;32m    156\u001B[0m             \u001B[0;31m# update the valid_passes property\u001B[0m\u001B[0;34m\u001B[0m\u001B[0;34m\u001B[0m\u001B[0m\n",
      "\u001B[0;32m/usr/local/lib/python3.9/site-packages/qiskit/transpiler/runningpassmanager.py\u001B[0m in \u001B[0;36m_run_this_pass\u001B[0;34m(self, pass_, dag)\u001B[0m\n\u001B[1;32m    164\u001B[0m             \u001B[0;31m# Measure time if we have a callback or logging set\u001B[0m\u001B[0;34m\u001B[0m\u001B[0;34m\u001B[0m\u001B[0m\n\u001B[1;32m    165\u001B[0m             \u001B[0mstart_time\u001B[0m \u001B[0;34m=\u001B[0m \u001B[0mtime\u001B[0m\u001B[0;34m(\u001B[0m\u001B[0;34m)\u001B[0m\u001B[0;34m\u001B[0m\u001B[0;34m\u001B[0m\u001B[0m\n\u001B[0;32m--> 166\u001B[0;31m             \u001B[0mnew_dag\u001B[0m \u001B[0;34m=\u001B[0m \u001B[0mpass_\u001B[0m\u001B[0;34m.\u001B[0m\u001B[0mrun\u001B[0m\u001B[0;34m(\u001B[0m\u001B[0mdag\u001B[0m\u001B[0;34m)\u001B[0m\u001B[0;34m\u001B[0m\u001B[0;34m\u001B[0m\u001B[0m\n\u001B[0m\u001B[1;32m    167\u001B[0m             \u001B[0mend_time\u001B[0m \u001B[0;34m=\u001B[0m \u001B[0mtime\u001B[0m\u001B[0;34m(\u001B[0m\u001B[0;34m)\u001B[0m\u001B[0;34m\u001B[0m\u001B[0;34m\u001B[0m\u001B[0m\n\u001B[1;32m    168\u001B[0m             \u001B[0mrun_time\u001B[0m \u001B[0;34m=\u001B[0m \u001B[0mend_time\u001B[0m \u001B[0;34m-\u001B[0m \u001B[0mstart_time\u001B[0m\u001B[0;34m\u001B[0m\u001B[0;34m\u001B[0m\u001B[0m\n",
      "\u001B[0;32m/usr/local/lib/python3.9/site-packages/qiskit/transpiler/passes/optimization/optimize_1q_decomposition.py\u001B[0m in \u001B[0;36mrun\u001B[0;34m(self, dag)\u001B[0m\n\u001B[1;32m    166\u001B[0m                     \u001B[0;32mcontinue\u001B[0m\u001B[0;34m\u001B[0m\u001B[0;34m\u001B[0m\u001B[0m\n\u001B[1;32m    167\u001B[0m \u001B[0;34m\u001B[0m\u001B[0m\n\u001B[0;32m--> 168\u001B[0;31m             \u001B[0mnew_basis\u001B[0m\u001B[0;34m,\u001B[0m \u001B[0mnew_circ\u001B[0m \u001B[0;34m=\u001B[0m \u001B[0mself\u001B[0m\u001B[0;34m.\u001B[0m\u001B[0m_resynthesize_run\u001B[0m\u001B[0;34m(\u001B[0m\u001B[0mrun\u001B[0m\u001B[0;34m)\u001B[0m\u001B[0;34m\u001B[0m\u001B[0;34m\u001B[0m\u001B[0m\n\u001B[0m\u001B[1;32m    169\u001B[0m \u001B[0;34m\u001B[0m\u001B[0m\n\u001B[1;32m    170\u001B[0m             \u001B[0;32mif\u001B[0m \u001B[0mnew_circ\u001B[0m \u001B[0;32mis\u001B[0m \u001B[0;32mnot\u001B[0m \u001B[0;32mNone\u001B[0m \u001B[0;32mand\u001B[0m \u001B[0mself\u001B[0m\u001B[0;34m.\u001B[0m\u001B[0m_substitution_checks\u001B[0m\u001B[0;34m(\u001B[0m\u001B[0mdag\u001B[0m\u001B[0;34m,\u001B[0m \u001B[0mrun\u001B[0m\u001B[0;34m,\u001B[0m \u001B[0mnew_circ\u001B[0m\u001B[0;34m,\u001B[0m \u001B[0mnew_basis\u001B[0m\u001B[0;34m)\u001B[0m\u001B[0;34m:\u001B[0m\u001B[0;34m\u001B[0m\u001B[0;34m\u001B[0m\u001B[0m\n",
      "\u001B[0;32m/usr/local/lib/python3.9/site-packages/qiskit/transpiler/passes/optimization/optimize_1q_decomposition.py\u001B[0m in \u001B[0;36m_resynthesize_run\u001B[0;34m(self, run)\u001B[0m\n\u001B[1;32m     76\u001B[0m             \u001B[0moperator\u001B[0m \u001B[0;34m=\u001B[0m \u001B[0mgate\u001B[0m\u001B[0;34m.\u001B[0m\u001B[0mop\u001B[0m\u001B[0;34m.\u001B[0m\u001B[0mto_matrix\u001B[0m\u001B[0;34m(\u001B[0m\u001B[0;34m)\u001B[0m\u001B[0;34m.\u001B[0m\u001B[0mdot\u001B[0m\u001B[0;34m(\u001B[0m\u001B[0moperator\u001B[0m\u001B[0;34m)\u001B[0m\u001B[0;34m\u001B[0m\u001B[0;34m\u001B[0m\u001B[0m\n\u001B[1;32m     77\u001B[0m \u001B[0;34m\u001B[0m\u001B[0m\n\u001B[0;32m---> 78\u001B[0;31m         \u001B[0mnew_circs\u001B[0m \u001B[0;34m=\u001B[0m \u001B[0;34m{\u001B[0m\u001B[0mk\u001B[0m\u001B[0;34m:\u001B[0m \u001B[0mv\u001B[0m\u001B[0;34m.\u001B[0m\u001B[0m_decompose\u001B[0m\u001B[0;34m(\u001B[0m\u001B[0moperator\u001B[0m\u001B[0;34m)\u001B[0m \u001B[0;32mfor\u001B[0m \u001B[0mk\u001B[0m\u001B[0;34m,\u001B[0m \u001B[0mv\u001B[0m \u001B[0;32min\u001B[0m \u001B[0mself\u001B[0m\u001B[0;34m.\u001B[0m\u001B[0m_decomposers\u001B[0m\u001B[0;34m.\u001B[0m\u001B[0mitems\u001B[0m\u001B[0;34m(\u001B[0m\u001B[0;34m)\u001B[0m\u001B[0;34m}\u001B[0m\u001B[0;34m\u001B[0m\u001B[0;34m\u001B[0m\u001B[0m\n\u001B[0m\u001B[1;32m     79\u001B[0m \u001B[0;34m\u001B[0m\u001B[0m\n\u001B[1;32m     80\u001B[0m         \u001B[0mnew_basis\u001B[0m\u001B[0;34m,\u001B[0m \u001B[0mnew_circ\u001B[0m \u001B[0;34m=\u001B[0m \u001B[0;32mNone\u001B[0m\u001B[0;34m,\u001B[0m \u001B[0;32mNone\u001B[0m\u001B[0;34m\u001B[0m\u001B[0;34m\u001B[0m\u001B[0m\n",
      "\u001B[0;32m/usr/local/lib/python3.9/site-packages/qiskit/transpiler/passes/optimization/optimize_1q_decomposition.py\u001B[0m in \u001B[0;36m<dictcomp>\u001B[0;34m(.0)\u001B[0m\n\u001B[1;32m     76\u001B[0m             \u001B[0moperator\u001B[0m \u001B[0;34m=\u001B[0m \u001B[0mgate\u001B[0m\u001B[0;34m.\u001B[0m\u001B[0mop\u001B[0m\u001B[0;34m.\u001B[0m\u001B[0mto_matrix\u001B[0m\u001B[0;34m(\u001B[0m\u001B[0;34m)\u001B[0m\u001B[0;34m.\u001B[0m\u001B[0mdot\u001B[0m\u001B[0;34m(\u001B[0m\u001B[0moperator\u001B[0m\u001B[0;34m)\u001B[0m\u001B[0;34m\u001B[0m\u001B[0;34m\u001B[0m\u001B[0m\n\u001B[1;32m     77\u001B[0m \u001B[0;34m\u001B[0m\u001B[0m\n\u001B[0;32m---> 78\u001B[0;31m         \u001B[0mnew_circs\u001B[0m \u001B[0;34m=\u001B[0m \u001B[0;34m{\u001B[0m\u001B[0mk\u001B[0m\u001B[0;34m:\u001B[0m \u001B[0mv\u001B[0m\u001B[0;34m.\u001B[0m\u001B[0m_decompose\u001B[0m\u001B[0;34m(\u001B[0m\u001B[0moperator\u001B[0m\u001B[0;34m)\u001B[0m \u001B[0;32mfor\u001B[0m \u001B[0mk\u001B[0m\u001B[0;34m,\u001B[0m \u001B[0mv\u001B[0m \u001B[0;32min\u001B[0m \u001B[0mself\u001B[0m\u001B[0;34m.\u001B[0m\u001B[0m_decomposers\u001B[0m\u001B[0;34m.\u001B[0m\u001B[0mitems\u001B[0m\u001B[0;34m(\u001B[0m\u001B[0;34m)\u001B[0m\u001B[0;34m}\u001B[0m\u001B[0;34m\u001B[0m\u001B[0;34m\u001B[0m\u001B[0m\n\u001B[0m\u001B[1;32m     79\u001B[0m \u001B[0;34m\u001B[0m\u001B[0m\n\u001B[1;32m     80\u001B[0m         \u001B[0mnew_basis\u001B[0m\u001B[0;34m,\u001B[0m \u001B[0mnew_circ\u001B[0m \u001B[0;34m=\u001B[0m \u001B[0;32mNone\u001B[0m\u001B[0;34m,\u001B[0m \u001B[0;32mNone\u001B[0m\u001B[0;34m\u001B[0m\u001B[0;34m\u001B[0m\u001B[0m\n",
      "\u001B[0;32m/usr/local/lib/python3.9/site-packages/qiskit/quantum_info/synthesis/one_qubit_decompose.py\u001B[0m in \u001B[0;36m_decompose\u001B[0;34m(self, unitary, simplify, atol)\u001B[0m\n\u001B[1;32m    165\u001B[0m \u001B[0;34m\u001B[0m\u001B[0m\n\u001B[1;32m    166\u001B[0m     \u001B[0;32mdef\u001B[0m \u001B[0m_decompose\u001B[0m\u001B[0;34m(\u001B[0m\u001B[0mself\u001B[0m\u001B[0;34m,\u001B[0m \u001B[0munitary\u001B[0m\u001B[0;34m,\u001B[0m \u001B[0msimplify\u001B[0m\u001B[0;34m=\u001B[0m\u001B[0;32mTrue\u001B[0m\u001B[0;34m,\u001B[0m \u001B[0matol\u001B[0m\u001B[0;34m=\u001B[0m\u001B[0mDEFAULT_ATOL\u001B[0m\u001B[0;34m)\u001B[0m\u001B[0;34m:\u001B[0m\u001B[0;34m\u001B[0m\u001B[0;34m\u001B[0m\u001B[0m\n\u001B[0;32m--> 167\u001B[0;31m         \u001B[0mtheta\u001B[0m\u001B[0;34m,\u001B[0m \u001B[0mphi\u001B[0m\u001B[0;34m,\u001B[0m \u001B[0mlam\u001B[0m\u001B[0;34m,\u001B[0m \u001B[0mphase\u001B[0m \u001B[0;34m=\u001B[0m \u001B[0mself\u001B[0m\u001B[0;34m.\u001B[0m\u001B[0m_params\u001B[0m\u001B[0;34m(\u001B[0m\u001B[0munitary\u001B[0m\u001B[0;34m)\u001B[0m\u001B[0;34m\u001B[0m\u001B[0;34m\u001B[0m\u001B[0m\n\u001B[0m\u001B[1;32m    168\u001B[0m         \u001B[0mcircuit\u001B[0m \u001B[0;34m=\u001B[0m \u001B[0mself\u001B[0m\u001B[0;34m.\u001B[0m\u001B[0m_circuit\u001B[0m\u001B[0;34m(\u001B[0m\u001B[0mtheta\u001B[0m\u001B[0;34m,\u001B[0m \u001B[0mphi\u001B[0m\u001B[0;34m,\u001B[0m \u001B[0mlam\u001B[0m\u001B[0;34m,\u001B[0m \u001B[0mphase\u001B[0m\u001B[0;34m,\u001B[0m \u001B[0msimplify\u001B[0m\u001B[0;34m=\u001B[0m\u001B[0msimplify\u001B[0m\u001B[0;34m,\u001B[0m \u001B[0matol\u001B[0m\u001B[0;34m=\u001B[0m\u001B[0matol\u001B[0m\u001B[0;34m)\u001B[0m\u001B[0;34m\u001B[0m\u001B[0;34m\u001B[0m\u001B[0m\n\u001B[1;32m    169\u001B[0m         \u001B[0;32mreturn\u001B[0m \u001B[0mcircuit\u001B[0m\u001B[0;34m\u001B[0m\u001B[0;34m\u001B[0m\u001B[0m\n",
      "\u001B[0;32m/usr/local/lib/python3.9/site-packages/qiskit/quantum_info/synthesis/one_qubit_decompose.py\u001B[0m in \u001B[0;36m_params_xyx\u001B[0;34m(mat)\u001B[0m\n\u001B[1;32m    263\u001B[0m             \u001B[0mdtype\u001B[0m\u001B[0;34m=\u001B[0m\u001B[0mcomplex\u001B[0m\u001B[0;34m,\u001B[0m\u001B[0;34m\u001B[0m\u001B[0;34m\u001B[0m\u001B[0m\n\u001B[1;32m    264\u001B[0m         )\n\u001B[0;32m--> 265\u001B[0;31m         \u001B[0mtheta\u001B[0m\u001B[0;34m,\u001B[0m \u001B[0mphi\u001B[0m\u001B[0;34m,\u001B[0m \u001B[0mlam\u001B[0m\u001B[0;34m,\u001B[0m \u001B[0mphase\u001B[0m \u001B[0;34m=\u001B[0m \u001B[0mOneQubitEulerDecomposer\u001B[0m\u001B[0;34m.\u001B[0m\u001B[0m_params_zyz\u001B[0m\u001B[0;34m(\u001B[0m\u001B[0mmat_zyz\u001B[0m\u001B[0;34m)\u001B[0m\u001B[0;34m\u001B[0m\u001B[0;34m\u001B[0m\u001B[0m\n\u001B[0m\u001B[1;32m    266\u001B[0m         \u001B[0mnewphi\u001B[0m\u001B[0;34m,\u001B[0m \u001B[0mnewlam\u001B[0m \u001B[0;34m=\u001B[0m \u001B[0m_mod_2pi\u001B[0m\u001B[0;34m(\u001B[0m\u001B[0mphi\u001B[0m \u001B[0;34m+\u001B[0m \u001B[0mnp\u001B[0m\u001B[0;34m.\u001B[0m\u001B[0mpi\u001B[0m\u001B[0;34m)\u001B[0m\u001B[0;34m,\u001B[0m \u001B[0m_mod_2pi\u001B[0m\u001B[0;34m(\u001B[0m\u001B[0mlam\u001B[0m \u001B[0;34m+\u001B[0m \u001B[0mnp\u001B[0m\u001B[0;34m.\u001B[0m\u001B[0mpi\u001B[0m\u001B[0;34m)\u001B[0m\u001B[0;34m\u001B[0m\u001B[0;34m\u001B[0m\u001B[0m\n\u001B[1;32m    267\u001B[0m         \u001B[0;32mreturn\u001B[0m \u001B[0mtheta\u001B[0m\u001B[0;34m,\u001B[0m \u001B[0mnewphi\u001B[0m\u001B[0;34m,\u001B[0m \u001B[0mnewlam\u001B[0m\u001B[0;34m,\u001B[0m \u001B[0mphase\u001B[0m \u001B[0;34m+\u001B[0m \u001B[0;34m(\u001B[0m\u001B[0mnewphi\u001B[0m \u001B[0;34m+\u001B[0m \u001B[0mnewlam\u001B[0m \u001B[0;34m-\u001B[0m \u001B[0mphi\u001B[0m \u001B[0;34m-\u001B[0m \u001B[0mlam\u001B[0m\u001B[0;34m)\u001B[0m \u001B[0;34m/\u001B[0m \u001B[0;36m2\u001B[0m\u001B[0;34m\u001B[0m\u001B[0;34m\u001B[0m\u001B[0m\n",
      "\u001B[0;32m/usr/local/lib/python3.9/site-packages/qiskit/quantum_info/synthesis/one_qubit_decompose.py\u001B[0m in \u001B[0;36m_params_zyz\u001B[0;34m(mat)\u001B[0m\n\u001B[1;32m    232\u001B[0m         \u001B[0;31m# U[1, 0] = exp(i(phi-lambda)/2) * sin(theta/2)\u001B[0m\u001B[0;34m\u001B[0m\u001B[0;34m\u001B[0m\u001B[0m\n\u001B[1;32m    233\u001B[0m         \u001B[0;31m# U[1, 1] = exp(i(phi+lambda)/2) * cos(theta/2)\u001B[0m\u001B[0;34m\u001B[0m\u001B[0;34m\u001B[0m\u001B[0m\n\u001B[0;32m--> 234\u001B[0;31m         \u001B[0mtheta\u001B[0m \u001B[0;34m=\u001B[0m \u001B[0;36m2\u001B[0m \u001B[0;34m*\u001B[0m \u001B[0mmath\u001B[0m\u001B[0;34m.\u001B[0m\u001B[0matan2\u001B[0m\u001B[0;34m(\u001B[0m\u001B[0mabs\u001B[0m\u001B[0;34m(\u001B[0m\u001B[0msu_mat\u001B[0m\u001B[0;34m[\u001B[0m\u001B[0;36m1\u001B[0m\u001B[0;34m,\u001B[0m \u001B[0;36m0\u001B[0m\u001B[0;34m]\u001B[0m\u001B[0;34m)\u001B[0m\u001B[0;34m,\u001B[0m \u001B[0mabs\u001B[0m\u001B[0;34m(\u001B[0m\u001B[0msu_mat\u001B[0m\u001B[0;34m[\u001B[0m\u001B[0;36m0\u001B[0m\u001B[0;34m,\u001B[0m \u001B[0;36m0\u001B[0m\u001B[0;34m]\u001B[0m\u001B[0;34m)\u001B[0m\u001B[0;34m)\u001B[0m\u001B[0;34m\u001B[0m\u001B[0;34m\u001B[0m\u001B[0m\n\u001B[0m\u001B[1;32m    235\u001B[0m         \u001B[0mphiplambda2\u001B[0m \u001B[0;34m=\u001B[0m \u001B[0mcmath\u001B[0m\u001B[0;34m.\u001B[0m\u001B[0mphase\u001B[0m\u001B[0;34m(\u001B[0m\u001B[0msu_mat\u001B[0m\u001B[0;34m[\u001B[0m\u001B[0;36m1\u001B[0m\u001B[0;34m,\u001B[0m \u001B[0;36m1\u001B[0m\u001B[0;34m]\u001B[0m\u001B[0;34m)\u001B[0m\u001B[0;34m\u001B[0m\u001B[0;34m\u001B[0m\u001B[0m\n\u001B[1;32m    236\u001B[0m         \u001B[0mphimlambda2\u001B[0m \u001B[0;34m=\u001B[0m \u001B[0mcmath\u001B[0m\u001B[0;34m.\u001B[0m\u001B[0mphase\u001B[0m\u001B[0;34m(\u001B[0m\u001B[0msu_mat\u001B[0m\u001B[0;34m[\u001B[0m\u001B[0;36m1\u001B[0m\u001B[0;34m,\u001B[0m \u001B[0;36m0\u001B[0m\u001B[0;34m]\u001B[0m\u001B[0;34m)\u001B[0m\u001B[0;34m\u001B[0m\u001B[0;34m\u001B[0m\u001B[0m\n",
      "\u001B[0;31mKeyboardInterrupt\u001B[0m: "
     ]
    }
   ],
   "execution_count": 15
  },
  {
   "cell_type": "code",
   "execution_count": null,
   "metadata": {
    "pycharm": {
     "name": "#%%\n"
    }
   },
   "outputs": [],
   "source": [
    "from topo_entropy import calculate_s_subsystems, ABC_DIVISION_2x3_LEFT\n",
    "from tqdm import tqdm\n",
    "import itertools"
   ]
  },
  {
   "cell_type": "code",
   "execution_count": null,
   "metadata": {
    "pycharm": {
     "name": "#%%\n"
    }
   },
   "outputs": [],
   "source": [
    "all_counts = []\n",
    "\n",
    "all_gates = [''.join(x) for x in itertools.product('xyz', repeat=len(qubits))]\n",
    "for gates in tqdm(all_gates):\n",
    "    tc = get_toric_code(x, y, len(qubits))\n",
    "\n",
    "    tc.measure_pauli(qubits, gates)\n",
    "\n",
    "    job = backend.run(transpile(tc.circ, backend), shots=15000)  # note: number of shots is important\n",
    "    result = job.result()\n",
    "    counts = result.get_counts(tc.circ)\n",
    "    all_counts.append(counts)\n",
    "calculated_values = calculate_s_subsystems(all_counts, ABC_DIVISION_2x3_LEFT)\n",
    "for expect, calc in zip(expected_values, calculated_values):\n",
    "    for ve, vc in zip(expect, calc):\n",
    "        print(f'Theoretical value of Stopo/ln(2): {ve}. Measured value: {vc / np.log(2)} ')"
   ]
  },
  {
   "cell_type": "code",
   "execution_count": null,
   "metadata": {
    "pycharm": {
     "name": "#%%\n"
    }
   },
   "outputs": [],
   "source": [
    "from tqdm import trange\n",
    "\n",
    "cnt = 1000\n",
    "all_counts = []\n",
    "\n",
    "all_gates = [''.join(x) for x in itertools.product('xyz', repeat=len(qubits))]\n",
    "for _ in trange(cnt):\n",
    "    tc = get_toric_code(x, y, len(qubits))\n",
    "\n",
    "    tc.measure_haar(qubits)\n",
    "\n",
    "    job = backend.run(transpile(tc.circ, backend), shots=15000)  # note: number of shots is important\n",
    "    result = job.result()\n",
    "    counts = result.get_counts(tc.circ)\n",
    "    all_counts.append(counts)\n",
    "calculated_values = calculate_s_subsystems(all_counts, ABC_DIVISION_2x3_LEFT)\n",
    "for expect, calc in zip(expected_values, calculated_values):\n",
    "    for ve, vc in zip(expect, calc):\n",
    "        print(f'Theoretical value of Stopo/ln(2): {ve}. Measured value: {vc / np.log(2)} ')"
   ]
  },
  {
   "cell_type": "markdown",
   "metadata": {
    "pycharm": {
     "name": "#%% md\n"
    }
   },
   "source": [
    "### Braiding\n",
    "There are three types of quasiparticle $e$, $m$ and $\\psi$. We demonstrate braiding of $e$ with $m$,\n",
    " as well as fermionic exchange statistics of $\\psi$."
   ]
  },
  {
   "cell_type": "code",
   "execution_count": null,
   "metadata": {
    "pycharm": {
     "name": "#%%\n"
    }
   },
   "outputs": [],
   "source": [
    "from topo_braiding import apply_cxxxx_on_square, create_e_particles, create_m_particles, apply_cxxyyzz_on_rectangle"
   ]
  },
  {
   "cell_type": "code",
   "execution_count": null,
   "metadata": {
    "pycharm": {
     "name": "#%%\n"
    }
   },
   "outputs": [],
   "source": [
    "for sq in [(0, 2), (0, 3), (2, 2), (2, 1)]:\n",
    "    tc = get_toric_code(x, y, classical_bit_count=1, ancillas_count=1)\n",
    "\n",
    "    x_string = [(2, 1), (2, 2)]\n",
    "    create_e_particles(tc, x_string)\n",
    "\n",
    "    z_string = [(1, 4), (0, 3), (1, 3)]  # , (0,2), (1,2)]\n",
    "    create_m_particles(tc, z_string)\n",
    "\n",
    "    tc.circ.h(tc.ancillas[0])\n",
    "    apply_cxxxx_on_square(tc, sq)\n",
    "    tc.circ.h(tc.ancillas[0])\n",
    "\n",
    "    tc.circ.measure(tc.ancillas[0], 0)\n",
    "    Nshots = 10000\n",
    "    job = backend.run(transpile(tc.circ, backend), shots=Nshots)\n",
    "    result = job.result()\n",
    "    counts = result.get_counts(tc.circ)\n",
    "\n",
    "    if '0' not in counts:\n",
    "        counts['0'] = 0\n",
    "    if '1' not in counts:\n",
    "        counts['1'] = 0\n",
    "\n",
    "    cos_theta = (counts['0'] - counts['1']) / Nshots\n",
    "    expected_res = -1. if sq in [(0, 2), (0, 3)] else 1.\n",
    "    print(f'Expected value of cos(theta): {expected_res}. Measured value: {cos_theta}')"
   ]
  },
  {
   "cell_type": "code",
   "execution_count": null,
   "metadata": {
    "pycharm": {
     "name": "#%%\n"
    }
   },
   "outputs": [],
   "source": [
    "\n",
    "sq = (0, 3)\n",
    "tc = get_toric_code(x, y, classical_bit_count=1, ancillas_count=1)\n",
    "\n",
    "x_strings = [[(2, 1), (2, 2)],\n",
    "             [(1, 4), (3, 4)]]\n",
    "for x_string in x_strings:\n",
    "    create_e_particles(tc, x_string)\n",
    "\n",
    "z_strings = [[(2, 3), (3, 3), (4, 3)],\n",
    "             [(3, 1), (4, 1), (3, 2)], ]\n",
    "for z_string in z_strings:\n",
    "    create_m_particles(tc, z_string)\n",
    "\n",
    "tc.circ.h(tc.ancillas[0])\n",
    "apply_cxxyyzz_on_rectangle(tc, sq)\n",
    "tc.circ.h(tc.ancillas[0])\n",
    "\n",
    "tc.circ.measure(tc.ancillas[0], 0)\n",
    "Nshots = 10000\n",
    "job = backend.run(transpile(tc.circ, backend), shots=Nshots)\n",
    "result = job.result()\n",
    "counts = result.get_counts(tc.circ)\n",
    "\n",
    "if '0' not in counts:\n",
    "    counts['0'] = 0\n",
    "if '1' not in counts:\n",
    "    counts['1'] = 0\n",
    "print(counts)\n",
    "\n",
    "cos_theta = (counts['0'] - counts['1']) / Nshots\n",
    "expected_res = -1.\n",
    "print(f'Expected value of cos(theta): {expected_res}. Measured value: {cos_theta}')"
   ]
  }
 ],
 "metadata": {
  "kernelspec": {
   "name": "pycharm-5c087434",
   "language": "python",
   "display_name": "PyCharm (toric_code)"
  },
  "language_info": {
   "codemirror_mode": {
    "name": "ipython",
    "version": 3
   },
   "file_extension": ".py",
   "mimetype": "text/x-python",
   "name": "python",
   "nbconvert_exporter": "python",
   "pygments_lexer": "ipython3",
   "version": "3.9.10"
  }
 },
 "nbformat": 4,
 "nbformat_minor": 1
}