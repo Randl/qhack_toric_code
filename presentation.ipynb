{
 "cells": [
  {
   "cell_type": "markdown",
   "source": [
    "Toric code was proposed by Kitaev in paper \n",
    "\"[Fault-tolerant quantum computation by anyons](https://arxiv.org/abs/quant-ph/9707021)\"\n",
    "\n",
    "[Leggett's intro](https://courses.physics.illinois.edu/phys598PTD/fa2013/L26.pdf) to toric code"
   ],
   "metadata": {
    "collapsed": false,
    "pycharm": {
     "name": "#%% md\n"
    }
   }
  },
  {
   "cell_type": "code",
   "execution_count": null,
   "outputs": [],
   "source": [],
   "metadata": {
    "collapsed": false,
    "pycharm": {
     "name": "#%%\n"
    }
   }
  },
  {
   "cell_type": "markdown",
   "source": [],
   "metadata": {
    "collapsed": false
   }
  }
 ],
 "metadata": {
  "kernelspec": {
   "display_name": "Python 3",
   "language": "python",
   "name": "python3"
  },
  "language_info": {
   "codemirror_mode": {
    "name": "ipython",
    "version": 2
   },
   "file_extension": ".py",
   "mimetype": "text/x-python",
   "name": "python",
   "nbconvert_exporter": "python",
   "pygments_lexer": "ipython2",
   "version": "2.7.6"
  }
 },
 "nbformat": 4,
 "nbformat_minor": 0
}